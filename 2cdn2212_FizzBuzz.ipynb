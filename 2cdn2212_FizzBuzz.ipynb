{
  "nbformat": 4,
  "nbformat_minor": 0,
  "metadata": {
    "colab": {
      "provenance": []
    },
    "kernelspec": {
      "name": "python3",
      "display_name": "Python 3"
    },
    "language_info": {
      "name": "python"
    }
  },
  "cells": [
    {
      "cell_type": "code",
      "execution_count": 23,
      "metadata": {
        "colab": {
          "base_uri": "https://localhost:8080/"
        },
        "id": "jasirEHg5pPg",
        "outputId": "21491ceb-e45f-41f6-810d-33d50f53a1e4"
      },
      "outputs": [
        {
          "output_type": "stream",
          "name": "stdout",
          "text": [
            "20\n",
            "1 ：該当しない\n",
            "2 ：該当しない\n",
            "3 ：Fizz\n",
            "4 ：該当しない\n",
            "5 ：Buzz\n",
            "6 ：Fizz\n",
            "7 ：該当しない\n",
            "8 ：該当しない\n",
            "9 ：Fizz\n",
            "10 ：Buzz\n",
            "11 ：該当しない\n",
            "12 ：Fizz\n",
            "13 ：該当しない\n",
            "14 ：該当しない\n",
            "15 ：Fizz Buzz\n",
            "16 ：該当しない\n",
            "17 ：該当しない\n",
            "18 ：Fizz\n",
            "19 ：該当しない\n",
            "20 ：Buzz\n"
          ]
        }
      ],
      "source": [
        "n = int(input())\n",
        "\n",
        "for i in range(1, n+1):\n",
        "    if i % 15 == 0:\n",
        "        print(i, \"：Fizz Buzz\")\n",
        "    elif i % 5 == 0:\n",
        "        print(i, \"：Buzz\")\n",
        "    elif i % 3 == 0:\n",
        "        print(i, \"：Fizz\")\n",
        "    else:\n",
        "        print(i,\"：該当しない\")"
      ]
    }
  ]
}